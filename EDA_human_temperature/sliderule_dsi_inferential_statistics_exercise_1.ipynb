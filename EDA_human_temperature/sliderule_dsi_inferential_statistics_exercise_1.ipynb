{
 "cells": [
  {
   "cell_type": "markdown",
   "metadata": {},
   "source": [
    "# What is the True Normal Human Body Temperature? \n",
    "\n",
    "#### Background\n",
    "\n",
    "The mean normal body temperature was held to be 37$^{\\circ}$C or 98.6$^{\\circ}$F for more than 120 years since it was first conceptualized and reported by Carl Wunderlich in a famous 1868 book. But, is this value statistically correct?"
   ]
  },
  {
   "cell_type": "markdown",
   "metadata": {},
   "source": [
    "<h3>Exercises</h3>\n",
    "\n",
    "<p>In this exercise, you will analyze a dataset of human body temperatures and employ the concepts of hypothesis testing, confidence intervals, and statistical significance.</p>\n",
    "\n",
    "<p>Answer the following questions <b>in this notebook below and submit to your Github account</b>.</p> \n",
    "\n",
    "<ol>\n",
    "<li>  Is the distribution of body temperatures normal? \n",
    "    <ul>\n",
    "    <li> Although this is not a requirement for the Central Limit Theorem to hold (read the introduction on Wikipedia's page about the CLT carefully: https://en.wikipedia.org/wiki/Central_limit_theorem), it gives us some peace of mind that the population may also be normally distributed if we assume that this sample is representative of the population.\n",
    "    <li> Think about the way you're going to check for the normality of the distribution. Graphical methods are usually used first, but there are also other ways: https://en.wikipedia.org/wiki/Normality_test\n",
    "    </ul>\n",
    "<li>  Is the sample size large? Are the observations independent?\n",
    "    <ul>\n",
    "    <li> Remember that this is a condition for the Central Limit Theorem, and hence the statistical tests we are using, to apply.\n",
    "    </ul>\n",
    "<li>  Is the true population mean really 98.6 degrees F?\n",
    "    <ul>\n",
    "    <li> First, try a bootstrap hypothesis test.\n",
    "    <li> Now, let's try frequentist statistical testing. Would you use a one-sample or two-sample test? Why?\n",
    "    <li> In this situation, is it appropriate to use the $t$ or $z$ statistic? \n",
    "    <li> Now try using the other test. How is the result be different? Why?\n",
    "    </ul>\n",
    "<li>  Draw a small sample of size 10 from the data and repeat both frequentist tests. \n",
    "    <ul>\n",
    "    <li> Which one is the correct one to use? \n",
    "    <li> What do you notice? What does this tell you about the difference in application of the $t$ and $z$ statistic?\n",
    "    </ul>\n",
    "<li>  At what temperature should we consider someone's temperature to be \"abnormal\"?\n",
    "    <ul>\n",
    "    <li> As in the previous example, try calculating everything using the boostrap approach, as well as the frequentist approach.\n",
    "    <li> Start by computing the margin of error and confidence interval. When calculating the confidence interval, keep in mind that you should use the appropriate formula for one draw, and not N draws.\n",
    "    </ul>\n",
    "<li>  Is there a significant difference between males and females in normal temperature?\n",
    "    <ul>\n",
    "    <li> What testing approach did you use and why?\n",
    "    <li> Write a story with your conclusion in the context of the original problem.\n",
    "    </ul>\n",
    "</ol>\n",
    "\n",
    "You can include written notes in notebook cells using Markdown: \n",
    "   - In the control panel at the top, choose Cell > Cell Type > Markdown\n",
    "   - Markdown syntax: http://nestacms.com/docs/creating-content/markdown-cheat-sheet\n",
    "\n",
    "#### Resources\n",
    "\n",
    "+ Information and data sources: http://www.amstat.org/publications/jse/datasets/normtemp.txt, http://www.amstat.org/publications/jse/jse_data_archive.htm\n",
    "+ Markdown syntax: http://nestacms.com/docs/creating-content/markdown-cheat-sheet\n",
    "\n",
    "****"
   ]
  },
  {
   "cell_type": "code",
   "execution_count": 3,
   "metadata": {
    "collapsed": true
   },
   "outputs": [],
   "source": [
    "%matplotlib inline\n",
    "\n",
    "import pandas as pd\n",
    "import matplotlib.pyplot as plt\n",
    "import numpy as np\n",
    "import scipy.stats as stats\n",
    "\n",
    "df = pd.read_csv('data/human_body_temperature.csv')"
   ]
  },
  {
   "cell_type": "code",
   "execution_count": 4,
   "metadata": {
    "collapsed": true
   },
   "outputs": [],
   "source": [
    "# Your work here."
   ]
  },
  {
   "cell_type": "markdown",
   "metadata": {},
   "source": [
    "1.) Checking for normality"
   ]
  },
  {
   "cell_type": "code",
   "execution_count": 5,
   "metadata": {
    "collapsed": false
   },
   "outputs": [
    {
     "data": {
      "text/plain": [
       "(array([  3.00000000e-04,   6.00000000e-04,   1.20000000e-03,\n",
       "          2.60000000e-03,   5.40000000e-03,   1.06000000e-02,\n",
       "          1.89000000e-02,   3.15000000e-02,   5.54000000e-02,\n",
       "          8.74000000e-02,   1.36300000e-01,   1.96800000e-01,\n",
       "          2.72900000e-01,   3.64600000e-01,   4.58100000e-01,\n",
       "          5.52700000e-01,   6.47900000e-01,   7.33000000e-01,\n",
       "          8.04500000e-01,   8.65700000e-01,   9.14400000e-01,\n",
       "          9.44300000e-01,   9.68100000e-01,   9.81300000e-01,\n",
       "          9.89900000e-01,   9.94600000e-01,   9.97900000e-01,\n",
       "          9.99100000e-01,   9.99800000e-01,   1.00000000e+00]),\n",
       " array([  95.4402703 ,   95.621401  ,   95.80253171,   95.98366242,\n",
       "          96.16479313,   96.34592384,   96.52705455,   96.70818525,\n",
       "          96.88931596,   97.07044667,   97.25157738,   97.43270809,\n",
       "          97.6138388 ,   97.7949695 ,   97.97610021,   98.15723092,\n",
       "          98.33836163,   98.51949234,   98.70062305,   98.88175376,\n",
       "          99.06288446,   99.24401517,   99.42514588,   99.60627659,\n",
       "          99.7874073 ,   99.96853801,  100.14966871,  100.33079942,\n",
       "         100.51193013,  100.69306084,  100.87419155]),\n",
       " <a list of 1 Patch objects>)"
      ]
     },
     "execution_count": 5,
     "metadata": {},
     "output_type": "execute_result"
    },
    {
     "data": {
      "image/png": "[encoded data removed]",
      "text/plain": [
       "<matplotlib.figure.Figure at 0xbf8bba8>"
      ]
     },
     "metadata": {},
     "output_type": "display_data"
    }
   ],
   "source": [
    "tmu = np.mean(df['temperature'])\n",
    "tstd = np.std(df['temperature'])\n",
    "plt.hist(df['temperature'], bins = 30, cumulative= True, normed = True, histtype = 'step')\n",
    "normal = np.random.normal(tmu,tstd, 10000)\n",
    "plt.hist(normal, bins = 30, cumulative = True, normed = True, histtype = 'step')"
   ]
  },
  {
   "cell_type": "markdown",
   "metadata": {},
   "source": [
    "The distribution looked skewed to the left at first, but after plotting it along side a normal ditribution that used the dataset's mean and standard deviation, the ditribution actually looks pretty normal"
   ]
  },
  {
   "cell_type": "markdown",
   "metadata": {},
   "source": [
    "2.) Is the sample size large? "
   ]
  },
  {
   "cell_type": "code",
   "execution_count": 6,
   "metadata": {
    "collapsed": false
   },
   "outputs": [
    {
     "data": {
      "text/plain": [
       "(130, 3)"
      ]
     },
     "execution_count": 6,
     "metadata": {},
     "output_type": "execute_result"
    }
   ],
   "source": [
    "df.shape"
   ]
  },
  {
   "cell_type": "markdown",
   "metadata": {},
   "source": [
    "There are 130 observations, which makes it sufficiently large for a hypothesis test."
   ]
  },
  {
   "cell_type": "markdown",
   "metadata": {},
   "source": [
    "**3.)Is the true population mean 98.6 degrees?**"
   ]
  },
  {
   "cell_type": "markdown",
   "metadata": {},
   "source": [
    "first try bootstrapping"
   ]
  },
  {
   "cell_type": "code",
   "execution_count": 7,
   "metadata": {
    "collapsed": false
   },
   "outputs": [],
   "source": [
    "#writing the function that will draw replicants of the data until the array is as long as the original data set\n",
    "def bootstrap(data, func):\n",
    "    bs_sample = np.random.choice(data,size = len(data))\n",
    "    return func(bs_sample)\n",
    "                                                                 "
   ]
  },
  {
   "cell_type": "code",
   "execution_count": 8,
   "metadata": {
    "collapsed": false
   },
   "outputs": [],
   "source": [
    "#finding the mean of each of the replicants\n",
    "replicates = np.empty(10000)\n",
    "for i in range(10000):\n",
    "    replicates[i] = bootstrap(df['temperature'], np.mean)"
   ]
  },
  {
   "cell_type": "code",
   "execution_count": 10,
   "metadata": {
    "collapsed": false
   },
   "outputs": [
    {
     "data": {
      "text/plain": [
       "<matplotlib.text.Text at 0xda81748>"
      ]
     },
     "execution_count": 10,
     "metadata": {},
     "output_type": "execute_result"
    },
    {
     "data": {
      "image/png": "[encoded data removed]",
      "text/plain": [
       "<matplotlib.figure.Figure at 0xd863390>"
      ]
     },
     "metadata": {},
     "output_type": "display_data"
    }
   ],
   "source": [
    "plt.hist(replicates, bins = 30)\n",
    "plt.xlabel('Mean Body Temperature')\n",
    "plt.ylabel('Count')"
   ]
  },
  {
   "cell_type": "code",
   "execution_count": 11,
   "metadata": {
    "collapsed": false
   },
   "outputs": [
    {
     "data": {
      "text/plain": [
       "array([ 98.12384615,  98.37538462])"
      ]
     },
     "execution_count": 11,
     "metadata": {},
     "output_type": "execute_result"
    }
   ],
   "source": [
    "conf_int = np.percentile(replicates, [2.5,97.5])\n",
    "conf_int"
   ]
  },
  {
   "cell_type": "markdown",
   "metadata": {},
   "source": [
    "After bootstrapping 10,000 runs, 98.6 IS NOT within the 95% confidence interval of our data, even though the original data set said otherwise."
   ]
  },
  {
   "cell_type": "markdown",
   "metadata": {},
   "source": [
    "Now try frequentist statistical testing. I will use a one sample test because I am not comparing between two products or datasets, but rather comparing to a known value. I will also use a Z-test because n > 30\n",
    "\n",
    "H_0: Mu = 98.6 degrees fahrenheit\n",
    "\n",
    "H_a: Mu != 98.6 degrees fahrenheit\n",
    "\n",
    "My alpha will 0.05.\n"
   ]
  },
  {
   "cell_type": "code",
   "execution_count": 39,
   "metadata": {
    "collapsed": false
   },
   "outputs": [
    {
     "data": {
      "text/plain": [
       "-0.48027041116084646"
      ]
     },
     "execution_count": 39,
     "metadata": {},
     "output_type": "execute_result"
    }
   ],
   "source": [
    "#performing the z-test using the sample standard deviatiation\n",
    "pop_mean = 98.6\n",
    "z = (tmu - pop_mean)/(tstd/(len(df['temperature']))**(1/2))\n",
    "z"
   ]
  },
  {
   "cell_type": "code",
   "execution_count": 40,
   "metadata": {
    "collapsed": false
   },
   "outputs": [
    {
     "data": {
      "text/plain": [
       "0.3155175627927288"
      ]
     },
     "execution_count": 40,
     "metadata": {},
     "output_type": "execute_result"
    }
   ],
   "source": [
    "p_valuez = stats.norm.cdf(z)\n",
    "p_valuez"
   ]
  },
  {
   "cell_type": "markdown",
   "metadata": {},
   "source": [
    "My z-score is -0.4803, which corresponds to a p-value of 0.316. \n",
    "\n",
    "Since 0.32 > 0.05, then I cannot confidently conclude that H_0 is false."
   ]
  },
  {
   "cell_type": "markdown",
   "metadata": {},
   "source": [
    "Doing the t test. I am reusing the z score because it is the same value as the t score, but found on a different table"
   ]
  },
  {
   "cell_type": "code",
   "execution_count": 14,
   "metadata": {
    "collapsed": false
   },
   "outputs": [
    {
     "data": {
      "text/plain": [
       "0.31592426986559241"
      ]
     },
     "execution_count": 14,
     "metadata": {},
     "output_type": "execute_result"
    }
   ],
   "source": [
    "p_valuet = stats.t.sf(np.abs(z), len(df['temperature'])-1)\n",
    "p_valuet"
   ]
  },
  {
   "cell_type": "markdown",
   "metadata": {},
   "source": [
    "The p-value is different by 0.0004, but it looks pretty much the same and would still not be able to throw out the null hypothesis.\n",
    "\n"
   ]
  },
  {
   "cell_type": "markdown",
   "metadata": {},
   "source": [
    "**4.)Drawing a 10 point sample from the data and redoing the 2 tests. Theoretically, the t-test is the one that I should do because of the small value of n**"
   ]
  },
  {
   "cell_type": "code",
   "execution_count": 15,
   "metadata": {
    "collapsed": false
   },
   "outputs": [
    {
     "data": {
      "text/plain": [
       "98.560000000000002"
      ]
     },
     "execution_count": 15,
     "metadata": {},
     "output_type": "execute_result"
    }
   ],
   "source": [
    "#getting the mean and standard deviations of the smaller sample\n",
    "sample = np.random.choice(df['temperature'],size = 10)\n",
    "sample_mean = np.mean(sample)\n",
    "sample_std = np.std(sample)\n",
    "sample_mean\n"
   ]
  },
  {
   "cell_type": "code",
   "execution_count": 16,
   "metadata": {
    "collapsed": false
   },
   "outputs": [
    {
     "data": {
      "text/plain": [
       "0.89353231614754758"
      ]
     },
     "execution_count": 16,
     "metadata": {},
     "output_type": "execute_result"
    }
   ],
   "source": [
    "sample_std"
   ]
  },
  {
   "cell_type": "code",
   "execution_count": 17,
   "metadata": {
    "collapsed": false
   },
   "outputs": [
    {
     "data": {
      "text/plain": [
       "-0.044766148103575591"
      ]
     },
     "execution_count": 17,
     "metadata": {},
     "output_type": "execute_result"
    }
   ],
   "source": [
    "z10 = (sample_mean - pop_mean)/(sample_std/10**(1/2))\n",
    "z10"
   ]
  },
  {
   "cell_type": "code",
   "execution_count": 18,
   "metadata": {
    "collapsed": false
   },
   "outputs": [
    {
     "data": {
      "text/plain": [
       "0.48214685396445867"
      ]
     },
     "execution_count": 18,
     "metadata": {},
     "output_type": "execute_result"
    }
   ],
   "source": [
    "p_valuez10 = stats.norm.sf(abs(z10))\n",
    "p_valuez10"
   ]
  },
  {
   "cell_type": "code",
   "execution_count": 19,
   "metadata": {
    "collapsed": false
   },
   "outputs": [
    {
     "data": {
      "text/plain": [
       "0.48263561575041147"
      ]
     },
     "execution_count": 19,
     "metadata": {},
     "output_type": "execute_result"
    }
   ],
   "source": [
    "p_valuet10 = stats.t.sf(np.abs(z10), 10-1)\n",
    "p_valuet10"
   ]
  },
  {
   "cell_type": "markdown",
   "metadata": {},
   "source": [
    "After doing this test with the smaller sample, the p-value from the t and z tests are 0.01 different rather than the much smaller value from before. "
   ]
  },
  {
   "cell_type": "markdown",
   "metadata": {},
   "source": [
    "**5.) At what temperature does it become abnormal?**"
   ]
  },
  {
   "cell_type": "markdown",
   "metadata": {},
   "source": [
    "Unsure of this one. Just going to add and subtract the margin of error from the sample mean\n"
   ]
  },
  {
   "cell_type": "code",
   "execution_count": 47,
   "metadata": {
    "collapsed": false
   },
   "outputs": [
    {
     "data": {
      "text/plain": [
       "1.4315012466538743"
      ]
     },
     "execution_count": 47,
     "metadata": {},
     "output_type": "execute_result"
    }
   ],
   "source": [
    "MoE = 1.96*tstd/(len(df['temperature'])**(1/2))\n",
    "MoE"
   ]
  },
  {
   "cell_type": "code",
   "execution_count": 48,
   "metadata": {
    "collapsed": false
   },
   "outputs": [
    {
     "data": {
      "text/plain": [
       "99.68073201588463"
      ]
     },
     "execution_count": 48,
     "metadata": {},
     "output_type": "execute_result"
    }
   ],
   "source": [
    "temp_high = tmu + MoE\n",
    "temp_high"
   ]
  },
  {
   "cell_type": "code",
   "execution_count": 49,
   "metadata": {
    "collapsed": false
   },
   "outputs": [
    {
     "data": {
      "text/plain": [
       "96.817729522576869"
      ]
     },
     "execution_count": 49,
     "metadata": {},
     "output_type": "execute_result"
    }
   ],
   "source": [
    "temp_low = tmu - MoE\n",
    "temp_low"
   ]
  },
  {
   "cell_type": "markdown",
   "metadata": {},
   "source": [
    "The acceptable temperatures are between 96.81 and 99.68 degrees fahrenheit"
   ]
  },
  {
   "cell_type": "markdown",
   "metadata": {},
   "source": [
    "**6.) Is there a significant difference between the two genders**\n",
    "\n",
    "H_0: There is no difference in mean temperature of the genders\n",
    "\n",
    "H_a: male_mean does not = female_mean"
   ]
  },
  {
   "cell_type": "code",
   "execution_count": 23,
   "metadata": {
    "collapsed": false
   },
   "outputs": [],
   "source": [
    "males = df['temperature'].loc[df['gender']=='M']\n",
    "females = df['temperature'].loc[df['gender'] == 'F']\n"
   ]
  },
  {
   "cell_type": "code",
   "execution_count": 24,
   "metadata": {
    "collapsed": false
   },
   "outputs": [
    {
     "data": {
      "text/plain": [
       "-0.28923076923076962"
      ]
     },
     "execution_count": 24,
     "metadata": {},
     "output_type": "execute_result"
    }
   ],
   "source": [
    "males_mean = np.mean(males)\n",
    "females_mean = np.mean(females)\n",
    "empirical_diff = males_mean - females_mean\n",
    "empirical_diff"
   ]
  },
  {
   "cell_type": "code",
   "execution_count": 25,
   "metadata": {
    "collapsed": true
   },
   "outputs": [],
   "source": [
    "def diff_of_means(data_1, data_2):\n",
    "    \"Making the function that will calculate the difference betweens means of the permutations\"\n",
    "    diff = np.mean(data_1) - np.mean(data_2)\n",
    "    return diff"
   ]
  },
  {
   "cell_type": "code",
   "execution_count": 26,
   "metadata": {
    "collapsed": true
   },
   "outputs": [],
   "source": [
    "\n",
    "def permutations(data_1, data_2):\n",
    "    \"Making permutations of the original data set and outputting them as perm_sample_1 and perm_sample_2\"\n",
    "    data = np.concatenate((males, females))\n",
    "    permuted_data = np.random.permutation(data)\n",
    "    \n",
    "    perm_sample_1 = permuted_data[:len(data_1)]\n",
    "    perm_sample_2 = permuted_data[len(data_1):]\n",
    "    \n",
    "    return perm_sample_1, perm_sample_2\n",
    "\n",
    "    \n"
   ]
  },
  {
   "cell_type": "code",
   "execution_count": 27,
   "metadata": {
    "collapsed": true
   },
   "outputs": [],
   "source": [
    "def draw_perm_reps(data_1, data_2, func, size=1):\n",
    "    \"Takes the two outputs from the permutations function and uses the diff_of_means to take their differences\"\n",
    "    perm_replicates = np.empty(size)\n",
    "\n",
    "    for i in range(size):\n",
    "        \n",
    "        perm_sample_1, perm_sample_2 = permutations(data_1,data_2)\n",
    "        \n",
    "        perm_replicates[i] = func(perm_sample_1,perm_sample_2)\n",
    "\n",
    "    return perm_replicates"
   ]
  },
  {
   "cell_type": "code",
   "execution_count": 28,
   "metadata": {
    "collapsed": false
   },
   "outputs": [
    {
     "data": {
      "text/plain": [
       "0"
      ]
     },
     "execution_count": 28,
     "metadata": {},
     "output_type": "execute_result"
    }
   ],
   "source": [
    "#The p-value that the difference is at least as low as the difference from the data set is extremely low\n",
    "theor_diffs = draw_perm_reps(males, females, diff_of_means, 10000)\n",
    "\n",
    "p = (np.sum(theor_diffs <= empirical_diff) / len(theor_diffs))\n",
    "p"
   ]
  },
  {
   "cell_type": "code",
   "execution_count": 35,
   "metadata": {
    "collapsed": false
   },
   "outputs": [
    {
     "data": {
      "image/png": "[encoded data removed]",
      "text/plain": [
       "<matplotlib.figure.Figure at 0xfb29ac8>"
      ]
     },
     "metadata": {},
     "output_type": "display_data"
    }
   ],
   "source": [
    "_ = plt.hist(theor_diffs, bins = 80)\n",
    "_ = plt.axvline(x = empirical_diff, color = 'red', linestyle = 'dashed', label = 'Empirical Mean')\n",
    "_ = plt.xlabel('Mean Temperature difference')\n",
    "_ = plt.ylabel('Count')\n",
    "_ = plt.legend(loc = 'upper right')\n",
    "plt.show()"
   ]
  },
  {
   "cell_type": "code",
   "execution_count": 36,
   "metadata": {
    "collapsed": false
   },
   "outputs": [
    {
     "data": {
      "text/plain": [
       "126"
      ]
     },
     "execution_count": 36,
     "metadata": {},
     "output_type": "execute_result"
    }
   ],
   "source": [
    "#Checking to make sure that there are at least some times when it is as big of a difference\n",
    "np.sum(theor_diffs <= empirical_diff)"
   ]
  },
  {
   "cell_type": "markdown",
   "metadata": {},
   "source": [
    "I used the permutation test to see how likely the mean of -2.89 is after shuffling the male and female data and then slicing it back out is. After 10,000 permutations, only about 100, or about 1% of the means were as extreme as the empirical data, leading me to believe that men have a lower mean body temperature than women. "
   ]
  },
  {
   "cell_type": "markdown",
   "metadata": {},
   "source": [
    "Story:\n",
    "\n",
    "A doctor is called by a grade school teacher, Mrs. Johnson, and is told that, since it is flu season, the school held a routine body temperature test to see if any of the students displayed any abnormalities. They found that many students had a below average body temperature. In fact, the average body temperature of all 130 kids at the school was only 98.2 degrees, and they knew from the resident biology teacher, that Carl Wunderlich deduced in 1868 that the mean body temperature should be 98.6 degrees. \n",
    "\n",
    "The doctor assures Mrs. Johnson by showing her a histogram of 1,000 different studies where the most common average temperature, even amongst the healthy, was only around 98.25. He tells her that there was nothing for her to worry about, and that through the use of more accurate technology, leading scientists now believe that 98.6 is no longer an accurate number for the average body temperature of a human person, but rather, closer to the average that she found in her class. \n",
    "\n",
    "Mrs. Johnson then said that all her life she has recorded a 98.6 whenever she was healthy. Does this mean that Mrs. Johnson is some kind of old generation human that hasn't evolved to keep up with the times? The doctor shows her the confidence interval between 96.81 and 99.68 and that any temperature between those can be considered healthy for most people. \n",
    "\n",
    "Satisfied that the majority of her school is not dieing of some disease, she shakes your hand and you leave. \n",
    "\n",
    "The end...\n",
    "\n"
   ]
  },
  {
   "cell_type": "code",
   "execution_count": null,
   "metadata": {
    "collapsed": true
   },
   "outputs": [],
   "source": []
  },
  {
   "cell_type": "code",
   "execution_count": null,
   "metadata": {
    "collapsed": true
   },
   "outputs": [],
   "source": []
  },
  {
   "cell_type": "code",
   "execution_count": null,
   "metadata": {
    "collapsed": true
   },
   "outputs": [],
   "source": []
  },
  {
   "cell_type": "code",
   "execution_count": null,
   "metadata": {
    "collapsed": true
   },
   "outputs": [],
   "source": []
  },
  {
   "cell_type": "code",
   "execution_count": null,
   "metadata": {
    "collapsed": true
   },
   "outputs": [],
   "source": []
  },
  {
   "cell_type": "code",
   "execution_count": null,
   "metadata": {
    "collapsed": true
   },
   "outputs": [],
   "source": []
  },
  {
   "cell_type": "code",
   "execution_count": null,
   "metadata": {
    "collapsed": true
   },
   "outputs": [],
   "source": []
  },
  {
   "cell_type": "code",
   "execution_count": null,
   "metadata": {
    "collapsed": true
   },
   "outputs": [],
   "source": []
  },
  {
   "cell_type": "code",
   "execution_count": null,
   "metadata": {
    "collapsed": true
   },
   "outputs": [],
   "source": []
  }
 ],
 "metadata": {
  "kernelspec": {
   "display_name": "Python 2",
   "language": "python",
   "name": "python2"
  },
  "language_info": {
   "codemirror_mode": {
    "name": "ipython",
    "version": 2
   },
   "file_extension": ".py",
   "mimetype": "text/x-python",
   "name": "python",
   "nbconvert_exporter": "python",
   "pygments_lexer": "ipython2",
   "version": "2.7.11"
  }
 },
 "nbformat": 4,
 "nbformat_minor": 1
}
